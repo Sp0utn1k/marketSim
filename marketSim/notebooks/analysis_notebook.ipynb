{
 "cells": [
  {
   "cell_type": "markdown",
   "metadata": {},
   "source": [
    "# Market Simulation Analysis\n",
    "\n",
    "This notebook provides an analysis of the market simulation results."
   ]
  },
  {
   "cell_type": "code",
   "metadata": {
    "ExecuteTime": {
     "end_time": "2024-07-09T04:23:59.380762Z",
     "start_time": "2024-07-09T04:23:58.166190Z"
    }
   },
   "source": [
    "import matplotlib.pyplot as plt\n",
    "import pandas as pd\n",
    "import torch\n",
    "from utils.data_processing import load_data\n",
    "from utils.torch_utils import pre_process\n",
    "\n",
    "# Load data\n",
    "datafolder = '../data/Kraken_OHLCVT'\n",
    "instrument = 'BTCUSD'\n",
    "data, metadata = load_data(datafolder, instrument)\n",
    "\n",
    "# Pre-process data\n",
    "processed_data = pre_process(data)\n",
    "\n",
    "# Plot data\n",
    "df = pd.DataFrame(processed_data.numpy(), columns=['body', 'shadow_up', 'shadow_low', 'close', 'volume'])\n",
    "df['time'] = metadata[:, 0].numpy()\n",
    "df.plot(x='time', y='close')\n",
    "plt.title('Close Prices Over Time')\n",
    "plt.show()"
   ],
   "outputs": [
    {
     "ename": "ModuleNotFoundError",
     "evalue": "No module named 'utils'",
     "output_type": "error",
     "traceback": [
      "\u001B[0;31m---------------------------------------------------------------------------\u001B[0m",
      "\u001B[0;31mModuleNotFoundError\u001B[0m                       Traceback (most recent call last)",
      "Cell \u001B[0;32mIn[1], line 4\u001B[0m\n\u001B[1;32m      2\u001B[0m \u001B[38;5;28;01mimport\u001B[39;00m \u001B[38;5;21;01mpandas\u001B[39;00m \u001B[38;5;28;01mas\u001B[39;00m \u001B[38;5;21;01mpd\u001B[39;00m\n\u001B[1;32m      3\u001B[0m \u001B[38;5;28;01mimport\u001B[39;00m \u001B[38;5;21;01mtorch\u001B[39;00m\n\u001B[0;32m----> 4\u001B[0m \u001B[38;5;28;01mfrom\u001B[39;00m \u001B[38;5;21;01mutils\u001B[39;00m\u001B[38;5;21;01m.\u001B[39;00m\u001B[38;5;21;01mdata_processing\u001B[39;00m \u001B[38;5;28;01mimport\u001B[39;00m load_data\n\u001B[1;32m      5\u001B[0m \u001B[38;5;28;01mfrom\u001B[39;00m \u001B[38;5;21;01mutils\u001B[39;00m\u001B[38;5;21;01m.\u001B[39;00m\u001B[38;5;21;01mtorch_utils\u001B[39;00m \u001B[38;5;28;01mimport\u001B[39;00m pre_process\n\u001B[1;32m      7\u001B[0m \u001B[38;5;66;03m# Load data\u001B[39;00m\n",
      "\u001B[0;31mModuleNotFoundError\u001B[0m: No module named 'utils'"
     ]
    }
   ],
   "execution_count": 1
  }
 ],
 "metadata": {
  "kernelspec": {
   "display_name": "Python 3",
   "language": "python",
   "name": "python3"
  },
  "language_info": {
   "codemirror_mode": {
    "name": "ipython",
    "version": 3
   },
   "file_extension": ".py",
   "mimetype": "text/x-python",
   "name": "python",
   "nbconvert_exporter": "python",
   "pygments_lexer": "ipython3",
   "version": "3.8.5"
  }
 },
 "nbformat": 4,
 "nbformat_minor": 4
}
